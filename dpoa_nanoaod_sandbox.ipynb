{
 "cells": [
  {
   "cell_type": "code",
   "execution_count": null,
   "id": "57cc38f0-c3ab-4d84-8eaf-cd9805801159",
   "metadata": {},
   "outputs": [],
   "source": [
    "!pip install --upgrade awkward\n",
    "!pip install --upgrade uproot\n",
    "\n",
    "!pip install coffea\n",
    "\n"
   ]
  },
  {
   "cell_type": "code",
   "execution_count": null,
   "id": "161fb34f-736f-40d3-af80-cd195bed55d5",
   "metadata": {},
   "outputs": [],
   "source": [
    "import awkward as ak\n",
    "import uproot\n",
    "\n",
    "import coffea\n",
    "\n",
    "from coffea.nanoevents import NanoEventsFactory, NanoAODSchema\n"
   ]
  },
  {
   "cell_type": "code",
   "execution_count": null,
   "id": "13608cc3-9c7d-4401-a21b-e9583a21bdcd",
   "metadata": {},
   "outputs": [],
   "source": [
    "print(f\"{ak.__version__ = }\")\n",
    "print(f\"{uproot.__version__ = }\")\n",
    "print(f\"{coffea.__version__ = }\")"
   ]
  },
  {
   "cell_type": "code",
   "execution_count": null,
   "id": "5750ad90-a5cd-4fa5-806e-5e41719978c2",
   "metadata": {},
   "outputs": [],
   "source": [
    "f = uproot.open('root://eospublic.cern.ch//eos/opendata/cms/mc/RunIISummer20UL16NanoAODv9/ZprimeToTT_M2000_W20_TuneCP2_PSweights_13TeV-madgraph-pythiaMLM-pythia8/NANOAODSIM/106X_mcRun2_asymptotic_v17-v1/270000/22BAB5D2-9E3F-E440-AB30-AE6DBFDF6C83.root')"
   ]
  },
  {
   "cell_type": "code",
   "execution_count": null,
   "id": "62963977-b776-4d79-9eb3-894f7e0a5c03",
   "metadata": {},
   "outputs": [],
   "source": [
    "fname = \"https://raw.githubusercontent.com/CoffeaTeam/coffea/master/tests/samples/nano_dy.root\"\n",
    "events = NanoEventsFactory.from_root(\n",
    "    {fname: \"Events\"},\n",
    "    schemaclass=NanoAODSchema,\n",
    ").events()"
   ]
  },
  {
   "cell_type": "code",
   "execution_count": null,
   "id": "921d199a-d76e-404a-8798-58ae536e2448",
   "metadata": {},
   "outputs": [],
   "source": [
    "events"
   ]
  },
  {
   "cell_type": "code",
   "execution_count": null,
   "id": "aa5815d5-f746-4f79-9235-7c451e0fe8d1",
   "metadata": {},
   "outputs": [],
   "source": [
    "events.fields"
   ]
  },
  {
   "cell_type": "code",
   "execution_count": null,
   "id": "b6574e8b-bb71-4509-8ce6-d7a422c3eaa2",
   "metadata": {},
   "outputs": [],
   "source": [
    "events.Jet"
   ]
  },
  {
   "cell_type": "code",
   "execution_count": null,
   "id": "f0d17bc9-bc72-416b-9530-d45d770ca366",
   "metadata": {},
   "outputs": [],
   "source": []
  }
 ],
 "metadata": {
  "kernelspec": {
   "display_name": "Python 3 (ipykernel)",
   "language": "python",
   "name": "python3"
  },
  "language_info": {
   "codemirror_mode": {
    "name": "ipython",
    "version": 3
   },
   "file_extension": ".py",
   "mimetype": "text/x-python",
   "name": "python",
   "nbconvert_exporter": "python",
   "pygments_lexer": "ipython3",
   "version": "3.10.5"
  }
 },
 "nbformat": 4,
 "nbformat_minor": 5
}
