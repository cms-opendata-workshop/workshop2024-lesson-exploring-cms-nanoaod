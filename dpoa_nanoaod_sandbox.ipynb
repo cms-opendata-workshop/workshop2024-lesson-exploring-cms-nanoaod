{
 "cells": [
  {
   "cell_type": "markdown",
   "id": "6d44161e-000c-492e-b16f-e665d3c24b71",
   "metadata": {},
   "source": [
    "# Samples\n",
    "\n",
    "## Signal\n",
    "\n",
    "M = 3000 GeV\n",
    "\n",
    "https://opendata.cern.ch/record/75156\n",
    "\n",
    "## Backgrounds\n",
    "\n",
    "### W+jets\n",
    "https://opendata.cern.ch/record/69747\n",
    "\n",
    "or\n",
    "\n",
    "https://opendata.cern.ch/record/69745\n",
    "\n",
    "### TT semilep\n",
    "https://opendata.cern.ch/record/67993\n",
    "\n",
    "### TT hadronic\n",
    "https://opendata.cern.ch/record/67841\n",
    "\n",
    "### TT leptonic\n",
    "https://opendata.cern.ch/record/19958\n",
    "\n",
    "\n",
    "\n",
    "# Trigger\n",
    "\n",
    "The trigger used for the muon channel is the “OR” combination of the HLT paths:HLT Mu50 v*\n",
    "196 , HLT TkMu50 v*. Similarly, the scale factors for this trigger combination were provided by the\n",
    "197 Muon POG [33].\n",
    "\n",
    "# Kinematics \n",
    "\n",
    "Referencing this note\n",
    "\n",
    "[1] M. Adams et al., “Search for ttbar resonances in boosted semileptonic final states at\n",
    "√14 s = 13 TeV”, CMS Analysis Note AN-2015/107 (2015).\n",
    "\n",
    "for discussions of invariant mass and using the mass of the W to constrain the kinematics of the missing energy in the transverse plane. See Eqn. 3."
   ]
  },
  {
   "cell_type": "code",
   "execution_count": null,
   "id": "6744b800-773d-4d90-95f5-a6b360f39a97",
   "metadata": {},
   "outputs": [],
   "source": [
    "# Run this if these are not installed and upgraded\n",
    "'''\n",
    "!pip install --upgrade awkward\n",
    "!pip install --upgrade uproot\n",
    "\n",
    "!pip install --upgrade matplotlib\n",
    "\n",
    "!pip install vector\n",
    "'''"
   ]
  },
  {
   "cell_type": "code",
   "execution_count": null,
   "id": "174179f3-cef1-4ef4-a98b-ec0dd14809cb",
   "metadata": {},
   "outputs": [],
   "source": [
    "# The classics\n",
    "import numpy as np\n",
    "import matplotlib.pylab as plt\n",
    "import matplotlib # To get the version\n",
    "\n",
    "import pandas as pd\n",
    "\n",
    "# The newcomers\n",
    "import awkward as ak\n",
    "import uproot\n",
    "\n",
    "import vector\n",
    "vector.register_awkward()\n"
   ]
  },
  {
   "cell_type": "code",
   "execution_count": null,
   "id": "a5153d2a-de91-4bb3-8637-621e6460126c",
   "metadata": {},
   "outputs": [],
   "source": [
    "print(\"Versions --------\\n\")\n",
    "print(f\"{ak.__version__ = }\\n\")\n",
    "print(f\"{uproot.__version__ = }\\n\")\n",
    "print(f\"{np.__version__ = }\\n\")\n",
    "print(f\"{matplotlib.__version__ = }\\n\")\n",
    "print(f\"{vector.__version__ = }\\n\")"
   ]
  },
  {
   "cell_type": "code",
   "execution_count": null,
   "id": "cf992912-7633-4c2a-bda1-153b16cd1c94",
   "metadata": {},
   "outputs": [],
   "source": [
    "####### Backgrounds\n",
    "# W+jets\n",
    "#dataset = \"Wjets\"\n",
    "#filename = 'root://eospublic.cern.ch//eos/opendata/cms/mc/RunIISummer20UL16NanoAODv9/WJetsToLNu_TuneCP5_13TeV-madgraphMLM-pythia8/NANOAODSIM/106X_mcRun2_asymptotic_v17-v1/270000/00702195-E707-3743-8BBA-57EB9DEE1DBA.root'\n",
    "\n",
    "# ttbar leptonic\n",
    "#dataset = \"tt_lep\"\n",
    "#filename = 'root://eospublic.cern.ch//eos/opendata/cms/mc/RunIIFall15MiniAODv2/TTTo2L2Nu_13TeV-powheg/MINIAODSIM/PU25nsData2015v1_76X_mcRun2_asymptotic_v12-v1/00000/02A468DA-E8B9-E511-942C-0022195E688C.root'\n",
    "\n",
    "# ttbar hadronic\n",
    "#dataset = \"tt_had\"\n",
    "#filename = 'root://eospublic.cern.ch//eos/opendata/cms/mc/RunIISummer20UL16NanoAODv9/TTToHadronic_TuneCP5_13TeV-powheg-pythia8/NANOAODSIM/106X_mcRun2_asymptotic_v17-v1/130000/009086DB-1E42-7545-9A35-1433EC89D04B.root'\n",
    "\n",
    "# ttbar semileptonic\n",
    "#dataset = \"tt_semilep\"\n",
    "#filename = 'root://eospublic.cern.ch//eos/opendata/cms/mc/RunIISummer20UL16NanoAODv9/TTToSemiLeptonic_TuneCP5_13TeV-powheg-pythia8/NANOAODSIM/106X_mcRun2_asymptotic_v17-v1/120000/08FCB2ED-176B-064B-85AB-37B898773B98.root'\n",
    "\n",
    "\n",
    "########### Signal\n",
    "dataset = 'signal'\n",
    "filename = 'root://eospublic.cern.ch//eos/opendata/cms/mc/RunIISummer20UL16NanoAODv9/ZprimeToTT_M2000_W20_TuneCP2_PSweights_13TeV-madgraph-pythiaMLM-pythia8/NANOAODSIM/106X_mcRun2_asymptotic_v17-v1/270000/22BAB5D2-9E3F-E440-AB30-AE6DBFDF6C83.root'\n",
    "\n",
    "\n",
    "# Open the file \n",
    "f = uproot.open(filename)\n",
    "\n",
    "events = f['Events']\n",
    "\n",
    "nevents = events.num_entries\n",
    "\n",
    "print(f\"{nevents = }\")"
   ]
  },
  {
   "cell_type": "code",
   "execution_count": null,
   "id": "15dc2754-7112-46dd-9e54-ce77f849f870",
   "metadata": {},
   "outputs": [],
   "source": [
    "def pretty_print(fields, fmt='40s', require=None, ignore=None):\n",
    "    \n",
    "    output = \"\"\n",
    "    \n",
    "    for f in fields:\n",
    "        PASSED = True\n",
    "        if require is not None:\n",
    "            if type(require) != list:\n",
    "                require = [require]\n",
    "            PASSED = True\n",
    "            for r in require:\n",
    "                if f.find(r) < 0:\n",
    "                    PASSED = False\n",
    "        \n",
    "        # Did not find a string and so skip\n",
    "        if PASSED is False:\n",
    "            continue\n",
    "        \n",
    "        if ignore is not None:\n",
    "            if f.find(ignore) >= 0:\n",
    "                continue\n",
    "        \n",
    "        if len(output) + len(f) <= 80:\n",
    "            output += f\"{f:{fmt}} \"\n",
    "        else:\n",
    "            print(output)\n",
    "            output = f\"{f:{fmt}} \"\n",
    "    \n",
    "    print(output)"
   ]
  },
  {
   "cell_type": "code",
   "execution_count": null,
   "id": "99f71009-167e-4caf-bfbe-3d41f0b754e8",
   "metadata": {},
   "outputs": [],
   "source": [
    "# Pretty print all the fields\n",
    "#pretty_print(events.keys())\n",
    "\n",
    "# Pretty print some subsets\n",
    "#pretty_print(events.keys(), fmt='30s', require='FatJet')\n",
    "#pretty_print(events.keys(), fmt='40s', require=['Muon', 'Iso'], ignore='HLT')\n",
    "#pretty_print(events.keys(), fmt='40s', require=['HLT', 'TkMu50'])\n",
    "#pretty_print(events.keys(), fmt='40s', require='HLT')\n",
    "#pretty_print(events.keys(), fmt='40s', require='Jet_', ignore='Fat')\n",
    "pretty_print(events.keys(), fmt='40s', require='PuppiMET', ignore='Raw')"
   ]
  },
  {
   "cell_type": "code",
   "execution_count": null,
   "id": "2a23de6b-5913-4b64-ae88-da06467e3070",
   "metadata": {},
   "outputs": [],
   "source": [
    "fatjet_mSD = events['FatJet_msoftdrop'].array()\n",
    "\n",
    "fatjet_tag = events['FatJet_particleNet_TvsQCD'].array()\n",
    "\n",
    "fatjet_tau2 = events['FatJet_tau2'].array()\n",
    "fatjet_tau3 = events['FatJet_tau3'].array()\n",
    "\n",
    "fatjet_pt = events['FatJet_pt'].array()\n",
    "fatjet_eta = events['FatJet_eta'].array()\n",
    "fatjet_phi = events['FatJet_phi'].array()\n",
    "fatjet_mass = events['FatJet_mass'].array()\n"
   ]
  },
  {
   "cell_type": "code",
   "execution_count": null,
   "id": "e0d8bbfd-4255-4fdb-9111-c1f3921cc5c0",
   "metadata": {},
   "outputs": [],
   "source": [
    "muon_pt = events['Muon_pt'].array()\n",
    "muon_eta = events['Muon_eta'].array()\n",
    "muon_phi = events['Muon_phi'].array()\n",
    "muon_mass = events['Muon_mass'].array()\n",
    "\n",
    "muon_iso = events['Muon_miniIsoId'].array()\n",
    "\n",
    "muon_tightId = events['Muon_tightId'].array()\n"
   ]
  },
  {
   "cell_type": "code",
   "execution_count": null,
   "id": "a92d1ea3-038f-45e6-8cd3-809b07f88378",
   "metadata": {},
   "outputs": [],
   "source": [
    "jet_btag = events['Jet_btagDeepB'].array()\n",
    "\n",
    "jet_jetid = events['Jet_jetId'].array()\n",
    "\n",
    "jet_pt = events['Jet_pt'].array()\n",
    "jet_eta = events['Jet_eta'].array()\n",
    "jet_phi = events['Jet_phi'].array()\n",
    "jet_mass = events['Jet_mass'].array()\n"
   ]
  },
  {
   "cell_type": "code",
   "execution_count": null,
   "id": "e966ea4f-93dd-441a-9501-ea04fb3c4323",
   "metadata": {},
   "outputs": [],
   "source": [
    "met_pt = events['PuppiMET_pt'].array()\n",
    "met_eta = 0*events['PuppiMET_pt'].array()  # Fix this to be 0\n",
    "met_phi = events['PuppiMET_phi'].array() \n",
    "met_energy = events['PuppiMET_sumEt'].array() # Is this the right thing to use?\n",
    "\n",
    "ht_lep = muon_pt + met_pt"
   ]
  },
  {
   "cell_type": "code",
   "execution_count": null,
   "id": "abfde43a-6b23-4950-8bdd-2ec5dbe660bd",
   "metadata": {},
   "outputs": [],
   "source": [
    "# Cuts\n",
    "tau32 = fatjet_tau3/fatjet_tau2\n",
    "\n",
    "#cut_fatjet = (tau32>0.67) & (fatjet_eta>-2.4) & (fatjet_eta<2.4) & (fatjet_mSD>105) & (fatjet_mSD<220)\n",
    "cut_fatjet = (fatjet_pt > 500) & (fatjet_tag > 0.5)\n",
    "\n",
    "cut_muon = (muon_pt>55) & (muon_eta>-2.4) & (muon_eta<2.4) & \\\n",
    "           (muon_tightId == True) & (muon_iso>1) & (ht_lep>150)\n",
    "\n",
    "cut_jet = (jet_btag > 0.5) & (jet_jetid>=4)\n",
    "\n",
    "\n",
    "\n",
    "# Event cut\n",
    "cut_met = (met_pt > 50)\n",
    "\n",
    "cut_nmuons = ak.num(cut_muon[cut_muon]) == 1\n",
    "\n",
    "cut_trigger = (events['HLT_TkMu50'].array())\n",
    "\n",
    "\n",
    "cut_ntop = ak.num(cut_fatjet[cut_fatjet]) == 1\n",
    "\n",
    "cut_full_event = cut_trigger & cut_nmuons & cut_met & cut_ntop"
   ]
  },
  {
   "cell_type": "code",
   "execution_count": null,
   "id": "c584a5cc-c568-438d-8abd-ba5636feefdb",
   "metadata": {},
   "outputs": [],
   "source": [
    "fatjets = ak.zip(\n",
    "    {\"pt\": fatjet_pt[cut_full_event][cut_fatjet[cut_full_event]], \n",
    "     \"eta\": fatjet_eta[cut_full_event][cut_fatjet[cut_full_event]], \n",
    "     \"phi\": fatjet_phi[cut_full_event][cut_fatjet[cut_full_event]], \n",
    "     \"mass\": fatjet_mass[cut_full_event][cut_fatjet[cut_full_event]]},\n",
    "    with_name=\"Momentum4D\",\n",
    ")\n",
    "\n",
    "muons = ak.zip(\n",
    "    {\"pt\": muon_pt[cut_full_event][cut_muon[cut_full_event]], \n",
    "     \"eta\": muon_eta[cut_full_event][cut_muon[cut_full_event]], \n",
    "     \"phi\": muon_phi[cut_full_event][cut_muon[cut_full_event]], \n",
    "     \"mass\": muon_mass[cut_full_event][cut_muon[cut_full_event]]},\n",
    "    with_name=\"Momentum4D\",\n",
    ")\n",
    "\n",
    "jets = ak.zip(\n",
    "    {\"pt\": jet_pt[cut_full_event][cut_jet[cut_full_event]], \n",
    "     \"eta\": jet_eta[cut_full_event][cut_jet[cut_full_event]], \n",
    "     \"phi\": jet_phi[cut_full_event][cut_jet[cut_full_event]], \n",
    "     \"mass\": jet_mass[cut_full_event][cut_jet[cut_full_event]]},\n",
    "    with_name=\"Momentum4D\",\n",
    ")\n",
    "\n",
    "met = ak.zip(\n",
    "    {\"pt\": met_pt[cut_full_event], \n",
    "     \"eta\": met_eta[cut_full_event], \n",
    "     \"phi\": met_phi[cut_full_event], \n",
    "     \"e\": met_energy[cut_full_event]},\n",
    "    with_name=\"Momentum4D\",\n",
    ")"
   ]
  },
  {
   "cell_type": "code",
   "execution_count": null,
   "id": "5919dd32-78b1-49e8-b67f-b99ce7b7b45b",
   "metadata": {},
   "outputs": [],
   "source": [
    "p4mu,p4fj,p4j,p4met = ak.unzip(ak.cartesian([muons, fatjets, jets, met]))\n"
   ]
  },
  {
   "cell_type": "markdown",
   "id": "9cf21388-9669-48b6-b736-47fd50a32f96",
   "metadata": {},
   "source": [
    "## Trying to get W mass constrainting working \n",
    "\n",
    "Maybe we ignore this in the end. "
   ]
  },
  {
   "cell_type": "code",
   "execution_count": null,
   "id": "05acb49c-13cc-4986-8393-89131112e29a",
   "metadata": {},
   "outputs": [],
   "source": [
    "#newmet = vector.Array([{\"x\":met.x, \"y\":met.y, \"z\":met.z, \"e\":met.e}])\n",
    "\n",
    "newmet = ak.zip(\n",
    "    {\"x\": p4met.x, \n",
    "     \"y\": p4met.y,\n",
    "     \"z\": tempz,\n",
    "     \"e\": p4met.e\n",
    "    }, with_name=\"Momentum4D\",\n",
    ")\n"
   ]
  },
  {
   "cell_type": "code",
   "execution_count": null,
   "id": "d6225b2e-336c-4c57-882b-2977a4ec4efd",
   "metadata": {},
   "outputs": [],
   "source": [
    "print(met)\n",
    "print()\n",
    "print(newmet)\n",
    "\n",
    "print()\n",
    "\n",
    "print(met.x)\n",
    "print()\n",
    "print(newmet.x)\n",
    "\n",
    "print()\n",
    "print(met.z)\n",
    "print()\n",
    "print(newmet.z)\n"
   ]
  },
  {
   "cell_type": "code",
   "execution_count": null,
   "id": "3024c5a5-102a-4819-9cf7-489596b934af",
   "metadata": {},
   "outputs": [],
   "source": [
    "#p4mu,p4fj,p4j,p4met = ak.unzip(ak.cartesian([muons, fatjets, jets, newmet]))\n",
    "p4mu,p4fj,p4j,p4met = ak.unzip(ak.cartesian([muons, fatjets, jets, met]))"
   ]
  },
  {
   "cell_type": "code",
   "execution_count": null,
   "id": "ae1c6c08-26ba-4981-a058-d83cb91e3a02",
   "metadata": {},
   "outputs": [],
   "source": [
    "p4tot = p4mu + p4fj + p4j + p4met"
   ]
  },
  {
   "cell_type": "code",
   "execution_count": null,
   "id": "f824de0c-a648-4311-b451-04109f3496c6",
   "metadata": {},
   "outputs": [],
   "source": [
    "plt.hist(ak.flatten(p4tot.mass),bins=50, range=(0,7000));"
   ]
  },
  {
   "cell_type": "code",
   "execution_count": null,
   "id": "ec26d4c2-5059-48dc-9fe6-9e43f6b8b55a",
   "metadata": {},
   "outputs": [],
   "source": [
    "mydict = {}\n",
    "mydict['mtt'] = ak.flatten(p4tot.mass) \n",
    "mydict['mu_pt'] = ak.flatten(p4mu.pt) \n",
    "\n",
    "df = pd.DataFrame.from_dict(mydict)\n",
    "\n",
    "df\n",
    "\n",
    "outfilename = f\"output_{dataset}_{filename.split('/')[-1].split('.')[0]}.csv\"\n",
    "print(outfilename)\n",
    "\n",
    "df.to_csv(outfilename, index=False)"
   ]
  },
  {
   "cell_type": "code",
   "execution_count": null,
   "id": "0ac6b187-790d-409e-bba5-e4e970282bac",
   "metadata": {},
   "outputs": [],
   "source": [
    "!cat output_signal_22BAB5D2-9E3F-E440-AB30-AE6DBFDF6C83.csv"
   ]
  },
  {
   "cell_type": "markdown",
   "id": "a8b76c2a-4c5c-4c3a-8fec-68c89a1fc179",
   "metadata": {},
   "source": [
    "# Sandbox"
   ]
  },
  {
   "cell_type": "code",
   "execution_count": null,
   "id": "57cc38f0-c3ab-4d84-8eaf-cd9805801159",
   "metadata": {},
   "outputs": [],
   "source": [
    "# Run this if these are not installed\n",
    "'''\n",
    "!pip install --upgrade awkward\n",
    "!pip install --upgrade uproot\n",
    "\n",
    "!pip install coffea\n",
    "\n",
    "!pip install --upgrade matplotlib\n",
    "\n",
    "!pip install vector\n",
    "'''"
   ]
  },
  {
   "cell_type": "code",
   "execution_count": null,
   "id": "161fb34f-736f-40d3-af80-cd195bed55d5",
   "metadata": {},
   "outputs": [],
   "source": [
    "import awkward as ak\n",
    "import uproot\n",
    "\n",
    "import coffea\n",
    "\n",
    "from coffea.nanoevents import NanoEventsFactory, NanoAODSchema\n",
    "\n",
    "import numpy as np\n",
    "\n",
    "import matplotlib.pylab as plt\n",
    "\n",
    "import matplotlib\n",
    "\n",
    "import vector\n",
    "vector.register_awkward()\n",
    "\n",
    "import pandas as pd\n"
   ]
  },
  {
   "cell_type": "code",
   "execution_count": null,
   "id": "13608cc3-9c7d-4401-a21b-e9583a21bdcd",
   "metadata": {},
   "outputs": [],
   "source": [
    "print(f\"{ak.__version__ = }\")\n",
    "print(f\"{uproot.__version__ = }\")\n",
    "print(f\"{coffea.__version__ = }\")\n",
    "print(f\"{np.__version__ = }\")\n",
    "print(f\"{matplotlib.__version__ = }\")\n",
    "print(f\"{vector.__version__ = }\")"
   ]
  },
  {
   "cell_type": "code",
   "execution_count": null,
   "id": "5750ad90-a5cd-4fa5-806e-5e41719978c2",
   "metadata": {},
   "outputs": [],
   "source": [
    "# Signal\n",
    "filename = 'root://eospublic.cern.ch//eos/opendata/cms/mc/RunIISummer20UL16NanoAODv9/ZprimeToTT_M2000_W20_TuneCP2_PSweights_13TeV-madgraph-pythiaMLM-pythia8/NANOAODSIM/106X_mcRun2_asymptotic_v17-v1/270000/22BAB5D2-9E3F-E440-AB30-AE6DBFDF6C83.root'\n",
    "\n",
    "\n",
    "# TT to semilep\n",
    "#filename = 'root://eospublic.cern.ch//eos/opendata/cms/mc/RunIISummer20UL16NanoAODv9/TTToSemiLeptonic_TuneCP5_13TeV-powheg-pythia8/NANOAODSIM/106X_mcRun2_asymptotic_v17-v1/120000/08FCB2ED-176B-064B-85AB-37B898773B98.root'\n",
    "\n",
    "f = uproot.open(filename)"
   ]
  },
  {
   "cell_type": "code",
   "execution_count": null,
   "id": "62963977-b776-4d79-9eb3-894f7e0a5c03",
   "metadata": {},
   "outputs": [],
   "source": [
    "#fname = \"https://raw.githubusercontent.com/CoffeaTeam/coffea/master/tests/samples/nano_dy.root\"\n",
    "#events = NanoEventsFactory.from_root(\n",
    "#    {fname: \"Events\"},\n",
    "#    schemaclass=NanoAODSchema,\n",
    "#).events()"
   ]
  },
  {
   "cell_type": "code",
   "execution_count": null,
   "id": "921d199a-d76e-404a-8798-58ae536e2448",
   "metadata": {},
   "outputs": [],
   "source": [
    "events = f['Events']\n",
    "\n",
    "#rrays = events.arrays(filter_name=['Muon_*', 'Jet_*'])\n",
    "\n",
    "\n",
    "#arrays\n",
    "#events.keys()"
   ]
  },
  {
   "cell_type": "code",
   "execution_count": null,
   "id": "b0ab12c5-1234-458b-88b8-ebc90a3cfd4b",
   "metadata": {},
   "outputs": [],
   "source": [
    "def pretty_print(fields, fmt='40s', require=None, ignore=None):\n",
    "    \n",
    "    output = \"\"\n",
    "    \n",
    "    for f in fields:\n",
    "        PASSED = True\n",
    "        if require is not None:\n",
    "            if type(require) != list:\n",
    "                require = [require]\n",
    "            PASSED = True\n",
    "            for r in require:\n",
    "                if f.find(r) < 0:\n",
    "                    PASSED = False\n",
    "        \n",
    "        # Did not find a string and so skip\n",
    "        if PASSED is False:\n",
    "            continue\n",
    "        \n",
    "        if ignore is not None:\n",
    "            if f.find(ignore) >= 0:\n",
    "                continue\n",
    "        \n",
    "        if len(output) + len(f) <= 80:\n",
    "            output += f\"{f:{fmt}} \"\n",
    "        else:\n",
    "            print(output)\n",
    "            output = f\"{f:{fmt}} \"\n",
    "    \n",
    "    print(output)"
   ]
  },
  {
   "cell_type": "code",
   "execution_count": null,
   "id": "aa5815d5-f746-4f79-9235-7c451e0fe8d1",
   "metadata": {},
   "outputs": [],
   "source": [
    "#pretty_print(events.keys())\n",
    "\n",
    "pretty_print(events.keys(), fmt='30s', require='FatJet')\n",
    "#pretty_print(events.keys(), fmt='40s', require=['Muon', 'Iso'], ignore='HLT')\n",
    "#pretty_print(events.keys(), fmt='40s', require=['HLT', 'TkMu50'])\n",
    "#pretty_print(events.keys(), fmt='40s', require='HLT')\n",
    "#pretty_print(events.keys(), fmt='40s', require='Jet_', ignore='Fat')\n",
    "#pretty_print(events.keys(), fmt='40s', require='PuppiMET')"
   ]
  },
  {
   "cell_type": "code",
   "execution_count": null,
   "id": "f696330f-d589-417c-91e1-1493a0a821de",
   "metadata": {},
   "outputs": [],
   "source": [
    "cut_trigger = events['HLT_TkMu50'].array()"
   ]
  },
  {
   "cell_type": "code",
   "execution_count": null,
   "id": "4fba43ba-6429-469a-999f-8dd1a8c3e58e",
   "metadata": {},
   "outputs": [],
   "source": [
    "cut_full_event = cut_trigger"
   ]
  },
  {
   "cell_type": "code",
   "execution_count": null,
   "id": "339e9c4a-1693-44af-abf6-ac99c781f92b",
   "metadata": {},
   "outputs": [],
   "source": [
    "len(cut_full_event)\n",
    "cut_full_event\n",
    "ak.num(events['FatJet_eta'].array(), axis=0)"
   ]
  },
  {
   "cell_type": "code",
   "execution_count": null,
   "id": "0569d1b6-63a5-4612-998f-070dc97ffa4b",
   "metadata": {},
   "outputs": [],
   "source": [
    "ak.num(events['FatJet_eta'].array()[cut_full_event], axis=0)"
   ]
  },
  {
   "cell_type": "code",
   "execution_count": null,
   "id": "367975c0-b6b9-4c1f-aad0-0e1313f79d6e",
   "metadata": {},
   "outputs": [],
   "source": [
    "#branches = events.arrays()"
   ]
  },
  {
   "cell_type": "code",
   "execution_count": null,
   "id": "96e8852f-f1d2-47ec-bc90-b86c2b1aadfa",
   "metadata": {},
   "outputs": [],
   "source": [
    "fatjet_pt = events['FatJet_pt'].array()\n",
    "cut_temp = fatjet_pt>400\n",
    "\n",
    "print(len(fatjet_pt))\n",
    "print(fatjet_pt[0:10])\n",
    "\n",
    "fatjet_pt = events['FatJet_pt'].array()[cut_full_event][cut_temp[cut_full_event]]\n",
    "#fatjet_pt = events['FatJet_pt'].array()[cut_temp[cut_full_event]]\n",
    "\n",
    "print(len(fatjet_pt))\n",
    "print(fatjet_pt[0:10])\n"
   ]
  },
  {
   "cell_type": "code",
   "execution_count": null,
   "id": "b6574e8b-bb71-4509-8ce6-d7a422c3eaa2",
   "metadata": {},
   "outputs": [],
   "source": [
    "fatjet_mSD = events['FatJet_msoftdrop'].array()#[cut_full_event]\n",
    "fatjet_eta = events['FatJet_eta'].array()#[cut_full_event]\n",
    "\n",
    "fatjet_tag = events['FatJet_particleNet_TvsQCD'].array()\n",
    "\n",
    "fatjet_tau2 = events['FatJet_tau2'].array()#[cut_full_event]\n",
    "fatjet_tau3 = events['FatJet_tau3'].array()#[cut_full_event]\n",
    "\n",
    "fatjet_pt = events['FatJet_pt'].array()#[cut_full_event]\n",
    "fatjet_eta = events['FatJet_eta'].array()#[cut_full_event]\n",
    "fatjet_phi = events['FatJet_phi'].array()#[cut_full_event]\n",
    "fatjet_mass = events['FatJet_mass'].array()#[cut_full_event]\n",
    "\n"
   ]
  },
  {
   "cell_type": "code",
   "execution_count": null,
   "id": "f0d17bc9-bc72-416b-9530-d45d770ca366",
   "metadata": {},
   "outputs": [],
   "source": [
    "muon_pt = events['Muon_pt'].array()#[cut_full_event]\n",
    "muon_eta = events['Muon_eta'].array()#[cut_full_event]\n",
    "muon_phi = events['Muon_phi'].array()#[cut_full_event]\n",
    "muon_mass = events['Muon_mass'].array()#[cut_full_event]\n",
    "\n",
    "muon_iso = events['Muon_miniIsoId'].array()\n",
    "\n",
    "muon_tightId = events['Muon_tightId'].array()#[cut_full_event]\n",
    "\n"
   ]
  },
  {
   "cell_type": "code",
   "execution_count": null,
   "id": "3909db13-a14b-4419-a0c9-59b6c1465f5f",
   "metadata": {},
   "outputs": [],
   "source": [
    "jet_btag = events['Jet_btagDeepB'].array()#[cut_full_event]\n",
    "\n",
    "jet_jetid = events['Jet_jetId'].array()\n",
    "\n",
    "jet_pt = events['Jet_pt'].array()#[cut_full_event]\n",
    "jet_eta = events['Jet_eta'].array()#[cut_full_event]\n",
    "jet_phi = events['Jet_phi'].array()#[cut_full_event]\n",
    "jet_mass = events['Jet_mass'].array()#[cut_full_event]\n",
    "\n"
   ]
  },
  {
   "cell_type": "code",
   "execution_count": null,
   "id": "45474c93-e0ba-42bb-8fd0-feb2baf8f5ee",
   "metadata": {},
   "outputs": [],
   "source": [
    "jet_mass"
   ]
  },
  {
   "cell_type": "code",
   "execution_count": null,
   "id": "76285cac-b1ba-41d3-b4da-7e76f7dfa1e7",
   "metadata": {},
   "outputs": [],
   "source": [
    "met_pt = events['PuppiMET_pt'].array()#[cut_full_event]\n",
    "met_eta = 0*events['PuppiMET_pt'].array()#[cut_full_event]  # Fix this to be 0\n",
    "met_phi = events['PuppiMET_phi'].array()#[cut_full_event] \n",
    "met_energy = events['PuppiMET_sumEt'].array()#[cut_full_event] \n",
    "\n",
    "ht_lep = muon_pt + met_pt"
   ]
  },
  {
   "cell_type": "code",
   "execution_count": null,
   "id": "59b25efe-4afd-400a-a3d2-aac6b50c4fda",
   "metadata": {},
   "outputs": [],
   "source": [
    "#met_energy"
   ]
  },
  {
   "cell_type": "code",
   "execution_count": null,
   "id": "a381ec34-0232-4b2e-8d9e-6815f86ad10e",
   "metadata": {},
   "outputs": [],
   "source": [
    "#jet_jetid"
   ]
  },
  {
   "cell_type": "code",
   "execution_count": null,
   "id": "8a062946-add8-4966-82bd-46661672587b",
   "metadata": {},
   "outputs": [],
   "source": [
    "# Cuts\n",
    "tau32 = fatjet_tau3/fatjet_tau2\n",
    "\n",
    "#cut_fatjet = (tau32>0.67) & (fatjet_eta>-2.4) & (fatjet_eta<2.4) & (fatjet_mSD>105) & (fatjet_mSD<220)\n",
    "cut_fatjet = (fatjet_pt > 500) & (fatjet_tag > 0.5)\n",
    "\n",
    "cut_muon = (muon_pt>55) & (muon_eta>-2.4) & (muon_eta<2.4) & \\\n",
    "           (muon_tightId == True) & (muon_iso>1) & (ht_lep>150)\n",
    "\n",
    "cut_jet = (jet_btag > 0.5) & (jet_jetid>=4)\n",
    "\n",
    "\n",
    "\n",
    "# Event cut\n",
    "cut_met = (met_pt > 50)\n",
    "\n",
    "cut_nmuons = ak.num(cut_muon[cut_muon]) == 1\n",
    "\n",
    "cut_trigger = (events['HLT_TkMu50'].array())\n",
    "\n",
    "\n",
    "cut_ntop = ak.num(cut_fatjet[cut_fatjet]) == 1\n",
    "\n",
    "cut_full_event = cut_trigger & cut_nmuons & cut_met & cut_ntop# & cut_ht"
   ]
  },
  {
   "cell_type": "code",
   "execution_count": null,
   "id": "05869c14-9078-4f34-87d2-863764b802d7",
   "metadata": {},
   "outputs": [],
   "source": [
    "#events['Muon_pt'].array()[cut_met]"
   ]
  },
  {
   "cell_type": "code",
   "execution_count": null,
   "id": "a0d41afc-71ac-4dd8-bf71-f82afd62a2e7",
   "metadata": {},
   "outputs": [],
   "source": [
    "#cutn_muons"
   ]
  },
  {
   "cell_type": "code",
   "execution_count": null,
   "id": "c9682f35-67c9-42d9-9cb0-1929ea0cc7fd",
   "metadata": {},
   "outputs": [],
   "source": [
    "#cut_trigger = events['HLT_TkMu50'].array()\n",
    "\n",
    "#met_pt = events['PuppiMET_pt'].array()\n",
    "#cut_met = met_pt > 50\n",
    "\n",
    "#cut_full_event = cut_trigger & cut_met\n",
    "\n",
    "'''\n",
    "fatjet_pt = events['FatJet_pt'].array()\n",
    "fatjet_eta = events['FatJet_eta'].array()\n",
    "fatjet_phi = events['FatJet_phi'].array()\n",
    "fatjet_mass = events['FatJet_mass'].array()\n",
    "\n",
    "muon_pt = events['Muon_pt'].array()\n",
    "muon_eta = events['Muon_eta'].array()\n",
    "muon_phi = events['Muon_phi'].array()\n",
    "muon_mass = events['Muon_mass'].array()\n",
    "\n",
    "jet_pt = events['Jet_pt'].array()\n",
    "jet_eta = events['Jet_eta'].array()\n",
    "jet_phi = events['Jet_phi'].array()\n",
    "jet_mass = events['Jet_mass'].array()\n",
    "\n",
    "met_pt = events['PuppiMET_pt'].array()\n",
    "met_eta = 0*events['PuppiMET_pt'].array()  # Fix this to be 0\n",
    "met_phi = events['PuppiMET_phi'].array() \n",
    "met_energy = events['PuppiMET_sumEt'].array() \n",
    "'''"
   ]
  },
  {
   "cell_type": "code",
   "execution_count": null,
   "id": "ebd9aa97-49e5-47aa-80d1-4ad9c056e034",
   "metadata": {},
   "outputs": [],
   "source": [
    "#cut_trigger\n",
    "#cut_met"
   ]
  },
  {
   "cell_type": "code",
   "execution_count": null,
   "id": "f7c2c0d1-e906-424f-9dea-28627df29bfa",
   "metadata": {},
   "outputs": [],
   "source": [
    "fatjets = ak.zip(\n",
    "    {\"pt\": fatjet_pt[cut_full_event][cut_fatjet[cut_full_event]], \n",
    "     \"eta\": fatjet_eta[cut_full_event][cut_fatjet[cut_full_event]], \n",
    "     \"phi\": fatjet_phi[cut_full_event][cut_fatjet[cut_full_event]], \n",
    "     \"mass\": fatjet_mass[cut_full_event][cut_fatjet[cut_full_event]]},\n",
    "    with_name=\"Momentum4D\",\n",
    ")\n",
    "\n",
    "muons = ak.zip(\n",
    "    {\"pt\": muon_pt[cut_full_event][cut_muon[cut_full_event]], \n",
    "     \"eta\": muon_eta[cut_full_event][cut_muon[cut_full_event]], \n",
    "     \"phi\": muon_phi[cut_full_event][cut_muon[cut_full_event]], \n",
    "     \"mass\": muon_mass[cut_full_event][cut_muon[cut_full_event]]},\n",
    "    with_name=\"Momentum4D\",\n",
    ")\n",
    "\n",
    "jets = ak.zip(\n",
    "    {\"pt\": jet_pt[cut_full_event][cut_jet[cut_full_event]], \n",
    "     \"eta\": jet_eta[cut_full_event][cut_jet[cut_full_event]], \n",
    "     \"phi\": jet_phi[cut_full_event][cut_jet[cut_full_event]], \n",
    "     \"mass\": jet_mass[cut_full_event][cut_jet[cut_full_event]]},\n",
    "    with_name=\"Momentum4D\",\n",
    ")\n",
    "\n",
    "met = ak.zip(\n",
    "    {\"pt\": met_pt[cut_full_event], \n",
    "     \"eta\": met_eta[cut_full_event], \n",
    "     \"phi\": met_phi[cut_full_event], \n",
    "     \"e\": met_energy[cut_full_event]},\n",
    "    with_name=\"Momentum4D\",\n",
    ")"
   ]
  },
  {
   "cell_type": "code",
   "execution_count": null,
   "id": "429be9ae-0a5f-4562-99e8-e3dfa1267f4a",
   "metadata": {},
   "outputs": [],
   "source": [
    "#cut_fatjet"
   ]
  },
  {
   "cell_type": "code",
   "execution_count": null,
   "id": "36d44469-802a-4928-8b7a-84648502be04",
   "metadata": {},
   "outputs": [],
   "source": [
    "#len(cut_met[cut_met])"
   ]
  },
  {
   "cell_type": "code",
   "execution_count": null,
   "id": "a66938ba-bedc-4d6c-b109-c0b0e98f386d",
   "metadata": {},
   "outputs": [],
   "source": [
    "#cut_met"
   ]
  },
  {
   "cell_type": "code",
   "execution_count": null,
   "id": "e358a4e6-30d1-4801-ba61-f1f7525af406",
   "metadata": {},
   "outputs": [],
   "source": [
    "#cut_met & cut_fatjet"
   ]
  },
  {
   "cell_type": "code",
   "execution_count": null,
   "id": "aa6b0a9f-e593-4312-86a2-4c5fd9bc0dba",
   "metadata": {},
   "outputs": [],
   "source": [
    "#fatjets"
   ]
  },
  {
   "cell_type": "code",
   "execution_count": null,
   "id": "7f36da78-fc3c-48d4-a09d-a56aec3e1bc5",
   "metadata": {},
   "outputs": [],
   "source": [
    "#muons"
   ]
  },
  {
   "cell_type": "code",
   "execution_count": null,
   "id": "e3884b6b-6b5d-44c5-8267-e4d02deef4fe",
   "metadata": {},
   "outputs": [],
   "source": [
    "#jets"
   ]
  },
  {
   "cell_type": "code",
   "execution_count": null,
   "id": "69293f72-5e29-4a2a-a0e8-5583d735e25a",
   "metadata": {},
   "outputs": [],
   "source": [
    "#met"
   ]
  },
  {
   "cell_type": "code",
   "execution_count": null,
   "id": "81c90e81-1e68-4cab-bc21-9ea3093abf01",
   "metadata": {},
   "outputs": [],
   "source": [
    "#p4mu = ak.unzip(ak.combinations(muons,1))\n",
    "#p4fj = ak.unzip(ak.combinations(fatjets,1))\n",
    "\n",
    "#p4mu1,p4mu2 = ak.unzip(ak.combinations(muons,2))\n",
    "#p4fj1,p4fj2 = ak.unzip(ak.combinations(fatjets,2))\n",
    "\n",
    "p4mu,p4fj,p4j,p4met = ak.unzip(ak.cartesian([muons, fatjets, jets, met]))\n",
    "\n",
    "# Because these are only 1 we need at a time, we handle them differently\n",
    "#p4mu = ak.unzip(ak.zip((muons,)))\n",
    "#p4fj = ak.unzip(ak.zip((fatjets,)))"
   ]
  },
  {
   "cell_type": "code",
   "execution_count": null,
   "id": "cae989a2-d6b5-4b1f-90ff-487704c05b78",
   "metadata": {},
   "outputs": [],
   "source": [
    "#p4j\n",
    "#p4met"
   ]
  },
  {
   "cell_type": "code",
   "execution_count": null,
   "id": "aafd99a2-2b41-4738-b2ad-8db6ac411d46",
   "metadata": {},
   "outputs": [],
   "source": [
    "p4tot = p4mu + p4fj + p4j + p4met\n",
    "#p4tot = p4mu1 + p4mu2\n",
    "\n",
    "#p4tot = ak.cartesian([p4mu,p4fj])\n",
    "#p4tot = ak.cartesian([muons, fatjets])\n",
    "\n",
    "#m = ak.unzip(p4tot).mass\n",
    "#x = ak.unzip(p4tot)\n",
    "\n",
    "#plt.hist(ak.unflatten(m),bins=50);"
   ]
  },
  {
   "cell_type": "code",
   "execution_count": null,
   "id": "92f5140c-34da-4917-be83-33170308854b",
   "metadata": {},
   "outputs": [],
   "source": [
    "n = 5\n",
    "\n",
    "print('mu')\n",
    "print(p4mu[n].pt, p4mu[n].x, p4mu[n].y, p4mu[n].z, p4mu[n].e)\n",
    "print('fatjet')\n",
    "print(p4fj[n].pt, p4fj[n].x, p4fj[n].y, p4fj[n].z, p4fj[n].e)\n",
    "print('jet')\n",
    "print(p4j[n].pt, p4j[n].x, p4j[n].y, p4j[n].z, p4j[n].e)\n",
    "print('met')\n",
    "print(p4met[n].pt, p4met[n].x, p4met[n].y, p4met[n].z, p4met[n].e)\n",
    "print('tot')\n",
    "print(p4tot[n].pt, p4tot[n].x, p4tot[n].y, p4tot[n].z, p4tot[n].e, p4tot[n].m)"
   ]
  },
  {
   "cell_type": "code",
   "execution_count": null,
   "id": "9a66ab86-2515-4a93-9b03-4f6a09c0c4f3",
   "metadata": {},
   "outputs": [],
   "source": [
    "n0 = 0\n",
    "n1 = 10\n",
    "\n",
    "print(p4mu[n0:n1])\n",
    "print(p4fj[n0:n1])\n",
    "print(p4j[n0:n1])\n",
    "print(p4met[n0:n1])\n",
    "print(p4tot[n0:n1])"
   ]
  },
  {
   "cell_type": "code",
   "execution_count": null,
   "id": "efe5066d-349e-4918-aeef-2c6576d8c85a",
   "metadata": {},
   "outputs": [],
   "source": [
    "#p4fj[0]"
   ]
  },
  {
   "cell_type": "code",
   "execution_count": null,
   "id": "8d209285-5c14-4bb7-80d5-bb26d875c619",
   "metadata": {},
   "outputs": [],
   "source": [
    "#muons#[0][0]"
   ]
  },
  {
   "cell_type": "code",
   "execution_count": null,
   "id": "4f97640f-1342-4280-83df-73cccce484a0",
   "metadata": {},
   "outputs": [],
   "source": [
    "p4tot"
   ]
  },
  {
   "cell_type": "code",
   "execution_count": null,
   "id": "34d0f5e5-d085-4d66-af87-2f7ada8f25f0",
   "metadata": {},
   "outputs": [],
   "source": [
    "#p4tot.mass"
   ]
  },
  {
   "cell_type": "code",
   "execution_count": null,
   "id": "354a3981-542b-4f57-aefd-6db90f2df1c4",
   "metadata": {},
   "outputs": [],
   "source": [
    "plt.hist(ak.flatten(p4tot.mass),bins=50, range=(0,7000));"
   ]
  },
  {
   "cell_type": "code",
   "execution_count": null,
   "id": "a89d9b99-0bce-4ef8-a264-4aa2d5f78d4a",
   "metadata": {},
   "outputs": [],
   "source": [
    "mydict = {}\n",
    "mydict['mtt'] = ak.flatten(p4tot.mass) \n",
    "mydict['mu_pt'] = ak.flatten(p4mu.pt) \n",
    "\n",
    "df = pd.DataFrame.from_dict(mydict)\n",
    "\n",
    "\n",
    "df"
   ]
  },
  {
   "cell_type": "code",
   "execution_count": null,
   "id": "1c6de908-55d9-4e8e-916e-2601f70d24c0",
   "metadata": {},
   "outputs": [],
   "source": [
    "cut_event_level = events['PuppiMET_pt'].array() > 50\n",
    "\n",
    "muon_pt = events['Muon_pt'].array()\n",
    "\n",
    "cut_muon = muon_pt > 35\n",
    "\n",
    "selected_muons = muon_pt[cut_event_level][cut_muon[cut_event_level]]\n"
   ]
  },
  {
   "cell_type": "code",
   "execution_count": null,
   "id": "66bfb64a-14b5-456e-ad68-a40e9d56da04",
   "metadata": {},
   "outputs": [],
   "source": []
  },
  {
   "cell_type": "code",
   "execution_count": null,
   "id": "27748ffc-67b1-47ed-8b22-d59049fbe249",
   "metadata": {},
   "outputs": [],
   "source": []
  },
  {
   "cell_type": "code",
   "execution_count": null,
   "id": "8e564174-ba68-4cb2-8af0-dab51a739761",
   "metadata": {},
   "outputs": [],
   "source": []
  },
  {
   "cell_type": "code",
   "execution_count": null,
   "id": "003c13a5-e962-4834-bb96-2ad819d43fd8",
   "metadata": {},
   "outputs": [],
   "source": []
  },
  {
   "cell_type": "code",
   "execution_count": null,
   "id": "26c1d381-9c01-4af4-a9af-d151d269c28f",
   "metadata": {},
   "outputs": [],
   "source": []
  },
  {
   "cell_type": "code",
   "execution_count": null,
   "id": "c65d08ca-a53b-4471-9773-cc12c1d370b0",
   "metadata": {},
   "outputs": [],
   "source": []
  },
  {
   "cell_type": "code",
   "execution_count": null,
   "id": "47c6c161-8081-45e1-97f2-e6536698e1b9",
   "metadata": {},
   "outputs": [],
   "source": []
  }
 ],
 "metadata": {
  "kernelspec": {
   "display_name": "Python 3 (ipykernel)",
   "language": "python",
   "name": "python3"
  },
  "language_info": {
   "codemirror_mode": {
    "name": "ipython",
    "version": 3
   },
   "file_extension": ".py",
   "mimetype": "text/x-python",
   "name": "python",
   "nbconvert_exporter": "python",
   "pygments_lexer": "ipython3",
   "version": "3.10.5"
  }
 },
 "nbformat": 4,
 "nbformat_minor": 5
}
